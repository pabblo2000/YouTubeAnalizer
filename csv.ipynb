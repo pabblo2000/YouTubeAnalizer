{
 "cells": [
  {
   "cell_type": "code",
   "execution_count": 4,
   "metadata": {},
   "outputs": [],
   "source": [
    "import mysql.connector\n",
    "import pandas as pd\n",
    "import os"
   ]
  },
  {
   "cell_type": "code",
   "execution_count": 2,
   "metadata": {},
   "outputs": [],
   "source": [
    "# Datos de la conexión\n",
    "conexion = mysql.connector.connect(\n",
    "    host=\"localhost\",  # Cambia si tu servidor no es local\n",
    "    user=\"root\",       # Tu usuario de MySQL\n",
    "    password=\"1234\",   # Tu contraseña de MySQL\n",
    "    database=\"youtube\"  # Nombre de la base de datos\n",
    ")"
   ]
  },
  {
   "cell_type": "code",
   "execution_count": 5,
   "metadata": {},
   "outputs": [],
   "source": [
    "# Creamos en el directorio actual una carpeta llamada \"datos\" si no existe.\n",
    "# Guardaremos los datos en formato CSV en esa carpeta.\n",
    "if not os.path.exists(\"datos\"):\n",
    "    os.makedirs(\"datos\")\n"
   ]
  },
  {
   "cell_type": "code",
   "execution_count": 6,
   "metadata": {},
   "outputs": [],
   "source": [
    "# Nombres de la tabla\n",
    "tabla = [\"video_info\", \"video_comments\", \"video_transcript\"]"
   ]
  },
  {
   "cell_type": "code",
   "execution_count": 7,
   "metadata": {},
   "outputs": [
    {
     "name": "stderr",
     "output_type": "stream",
     "text": [
      "C:\\Users\\palva\\AppData\\Local\\Temp\\ipykernel_19020\\1385575183.py:6: UserWarning: pandas only supports SQLAlchemy connectable (engine/connection) or database string URI or sqlite3 DBAPI2 connection. Other DBAPI2 objects are not tested. Please consider using SQLAlchemy.\n",
      "  df = pd.read_sql(consulta_sql, conexion)\n"
     ]
    },
    {
     "name": "stdout",
     "output_type": "stream",
     "text": [
      "Datos de la tabla video_info guardados correctamente en 'datos/video_info.csv'\n",
      "Datos de la tabla video_comments guardados correctamente en 'datos/video_comments.csv'\n",
      "Datos de la tabla video_transcript guardados correctamente en 'datos/video_transcript.csv'\n"
     ]
    }
   ],
   "source": [
    "for i in tabla:\n",
    "    # Consulta SQL\n",
    "    consulta_sql = f\"SELECT * FROM {i}\"\n",
    "\n",
    "    # Extraer datos a un DataFrame\n",
    "    df = pd.read_sql(consulta_sql, conexion)\n",
    "\n",
    "    # Guardar el DataFrame como un archivo CSV en la carpeta \"datos\"\n",
    "    df.to_csv(f\"datos/{i}.csv\", index=False)\n",
    "\n",
    "    print(f\"Datos de la tabla {i} guardados correctamente en 'datos/{i}.csv'\")\n",
    "\n",
    "# Cerrar la conexión\n",
    "conexion.close()"
   ]
  }
 ],
 "metadata": {
  "kernelspec": {
   "display_name": "Python 3",
   "language": "python",
   "name": "python3"
  },
  "language_info": {
   "codemirror_mode": {
    "name": "ipython",
    "version": 3
   },
   "file_extension": ".py",
   "mimetype": "text/x-python",
   "name": "python",
   "nbconvert_exporter": "python",
   "pygments_lexer": "ipython3",
   "version": "3.12.7"
  }
 },
 "nbformat": 4,
 "nbformat_minor": 2
}
